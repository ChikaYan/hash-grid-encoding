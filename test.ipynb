{
 "cells": [
  {
   "cell_type": "code",
   "execution_count": 1,
   "metadata": {},
   "outputs": [],
   "source": [
    "import numpy as np\n",
    "import torch\n",
    "from pathlib import Path\n",
    "import pandas as pd\n",
    "import json\n",
    "import imageio"
   ]
  },
  {
   "cell_type": "code",
   "execution_count": 3,
   "metadata": {},
   "outputs": [
    {
     "name": "stderr",
     "output_type": "stream",
     "text": [
      "C:\\Users\\walte\\AppData\\Local\\Temp\\ipykernel_25968\\2633107893.py:6: DeprecationWarning: Starting with ImageIO v3 the behavior of this function will switch to that of iio.v3.imread. To keep the current behavior (and make this warning disappear) use `import imageio.v2 as imageio` or call `imageio.v2.imread` directly.\n",
      "  writer.append_data(imageio.imread(str(im)))\n"
     ]
    }
   ],
   "source": [
    "writer = imageio.get_writer('exp/tv_1e_3/render.mp4', fps=10)\n",
    "\n",
    "\n",
    "\n",
    "for im in Path('exp/tv_1e_3/render').glob('*'):\n",
    "    writer.append_data(imageio.imread(str(im)))\n",
    "writer.close()"
   ]
  },
  {
   "cell_type": "code",
   "execution_count": 2,
   "metadata": {},
   "outputs": [
    {
     "data": {
      "text/plain": [
       "WindowsPath('C:/nonsys/workspace/GfxExp/exp/cornell_box_dy/save_query/query_frame_000_spp_000.json')"
      ]
     },
     "execution_count": 2,
     "metadata": {},
     "output_type": "execute_result"
    }
   ],
   "source": [
    "exp_path = Path('C:/nonsys/workspace/GfxExp/exp/cornell_box_dy/save_query')\n",
    "json_path = sorted(list(exp_path.glob('*.json')))[0]\n",
    "json_path"
   ]
  },
  {
   "cell_type": "code",
   "execution_count": 3,
   "metadata": {},
   "outputs": [],
   "source": [
    "with (json_path).open('r') as f:\n",
    "    json_dict = json.load(f)"
   ]
  },
  {
   "cell_type": "code",
   "execution_count": 4,
   "metadata": {},
   "outputs": [
    {
     "data": {
      "text/plain": [
       "65536"
      ]
     },
     "execution_count": 4,
     "metadata": {},
     "output_type": "execute_result"
    }
   ],
   "source": [
    "len(json_dict['train_query'])"
   ]
  },
  {
   "cell_type": "code",
   "execution_count": 5,
   "metadata": {},
   "outputs": [
    {
     "data": {
      "text/html": [
       "<div>\n",
       "<style scoped>\n",
       "    .dataframe tbody tr th:only-of-type {\n",
       "        vertical-align: middle;\n",
       "    }\n",
       "\n",
       "    .dataframe tbody tr th {\n",
       "        vertical-align: top;\n",
       "    }\n",
       "\n",
       "    .dataframe thead th {\n",
       "        text-align: right;\n",
       "    }\n",
       "</style>\n",
       "<table border=\"1\" class=\"dataframe\">\n",
       "  <thead>\n",
       "    <tr style=\"text-align: right;\">\n",
       "      <th></th>\n",
       "      <th>diffuse_reflectance</th>\n",
       "      <th>motion</th>\n",
       "      <th>normal_phi</th>\n",
       "      <th>normal_theta</th>\n",
       "      <th>position</th>\n",
       "      <th>roughness</th>\n",
       "      <th>specular_reflectance</th>\n",
       "      <th>target</th>\n",
       "      <th>vOut_phi</th>\n",
       "      <th>vOut_theta</th>\n",
       "    </tr>\n",
       "  </thead>\n",
       "  <tbody>\n",
       "    <tr>\n",
       "      <th>0</th>\n",
       "      <td>[0.48046875, 0.462890625, 0.41796875]</td>\n",
       "      <td>[0.0, 0.0, 0.0]</td>\n",
       "      <td>-1.570796</td>\n",
       "      <td>1.570796</td>\n",
       "      <td>[0.306252658367157, 0.9999497532844543, 0.7173...</td>\n",
       "      <td>0.00100</td>\n",
       "      <td>[0.03999999910593033, 0.03999999910593033, 0.0...</td>\n",
       "      <td>[0.4390144944190979, 0.29768621921539307, 0.08...</td>\n",
       "      <td>-0.714346</td>\n",
       "      <td>0.624703</td>\n",
       "    </tr>\n",
       "    <tr>\n",
       "      <th>1</th>\n",
       "      <td>[0.48046875, 0.462890625, 0.41796875]</td>\n",
       "      <td>[0.0, 0.0, 0.0]</td>\n",
       "      <td>-1.570796</td>\n",
       "      <td>1.570796</td>\n",
       "      <td>[0.3363826274871826, 0.9999497532844543, 0.709...</td>\n",
       "      <td>0.00100</td>\n",
       "      <td>[0.03999999910593033, 0.03999999910593033, 0.0...</td>\n",
       "      <td>[0.40728095173835754, 0.2761684060096741, 0.08...</td>\n",
       "      <td>-0.743398</td>\n",
       "      <td>0.605594</td>\n",
       "    </tr>\n",
       "    <tr>\n",
       "      <th>2</th>\n",
       "      <td>[0.48046875, 0.462890625, 0.41796875]</td>\n",
       "      <td>[0.0, 0.0, 0.0]</td>\n",
       "      <td>-1.570796</td>\n",
       "      <td>1.570796</td>\n",
       "      <td>[0.22915375232696533, 0.9999497532844543, 0.61...</td>\n",
       "      <td>0.00100</td>\n",
       "      <td>[0.03999999910593033, 0.03999999910593033, 0.0...</td>\n",
       "      <td>[0.0991773009300232, 0.0010692072100937366, 0....</td>\n",
       "      <td>-0.648006</td>\n",
       "      <td>0.614669</td>\n",
       "    </tr>\n",
       "    <tr>\n",
       "      <th>3</th>\n",
       "      <td>[0.48046875, 0.462890625, 0.41796875]</td>\n",
       "      <td>[0.0, 0.0, 0.0]</td>\n",
       "      <td>-1.570796</td>\n",
       "      <td>1.570796</td>\n",
       "      <td>[0.10629868507385254, 0.9999498128890991, 0.68...</td>\n",
       "      <td>0.00100</td>\n",
       "      <td>[0.03999999910593033, 0.03999999910593033, 0.0...</td>\n",
       "      <td>[0.2314876765012741, 0.002495615743100643, 0.0...</td>\n",
       "      <td>-0.561981</td>\n",
       "      <td>0.710877</td>\n",
       "    </tr>\n",
       "    <tr>\n",
       "      <th>4</th>\n",
       "      <td>[0.48046875, 0.462890625, 0.41796875]</td>\n",
       "      <td>[0.0, 0.0, 0.0]</td>\n",
       "      <td>-1.570796</td>\n",
       "      <td>1.570796</td>\n",
       "      <td>[0.14926153421401978, 0.9999497532844543, 0.79...</td>\n",
       "      <td>0.00100</td>\n",
       "      <td>[0.03999999910593033, 0.03999999910593033, 0.0...</td>\n",
       "      <td>[0.17676062881946564, 0.001835898612625897, 0....</td>\n",
       "      <td>-0.589666</td>\n",
       "      <td>0.745139</td>\n",
       "    </tr>\n",
       "    <tr>\n",
       "      <th>...</th>\n",
       "      <td>...</td>\n",
       "      <td>...</td>\n",
       "      <td>...</td>\n",
       "      <td>...</td>\n",
       "      <td>...</td>\n",
       "      <td>...</td>\n",
       "      <td>...</td>\n",
       "      <td>...</td>\n",
       "      <td>...</td>\n",
       "      <td>...</td>\n",
       "    </tr>\n",
       "    <tr>\n",
       "      <th>65531</th>\n",
       "      <td>[3.111596015514806e-05, 3.111596015514806e-05,...</td>\n",
       "      <td>[0.0, 0.0, 0.0]</td>\n",
       "      <td>3.141593</td>\n",
       "      <td>1.269876</td>\n",
       "      <td>[0.17787300050258636, 0.5011635422706604, 0.34...</td>\n",
       "      <td>0.61288</td>\n",
       "      <td>[0.0026184511370956898, 0.0026184511370956898,...</td>\n",
       "      <td>[0.0, 0.0, 0.0]</td>\n",
       "      <td>3.118676</td>\n",
       "      <td>0.644623</td>\n",
       "    </tr>\n",
       "    <tr>\n",
       "      <th>65532</th>\n",
       "      <td>[3.111596015514806e-05, 3.111596015514806e-05,...</td>\n",
       "      <td>[0.0, 0.0, 0.0]</td>\n",
       "      <td>3.141593</td>\n",
       "      <td>1.269876</td>\n",
       "      <td>[0.1701839715242386, 0.5004807114601135, 0.324...</td>\n",
       "      <td>0.61288</td>\n",
       "      <td>[0.0026184511370956898, 0.0026184511370956898,...</td>\n",
       "      <td>[0.0, 0.0, 0.0]</td>\n",
       "      <td>3.117833</td>\n",
       "      <td>0.632231</td>\n",
       "    </tr>\n",
       "    <tr>\n",
       "      <th>65533</th>\n",
       "      <td>[0.48046875, 0.462890625, 0.41796875]</td>\n",
       "      <td>[0.0, 0.0, 0.0]</td>\n",
       "      <td>-1.570796</td>\n",
       "      <td>1.570796</td>\n",
       "      <td>[0.7340025305747986, 0.9999846816062927, 0.052...</td>\n",
       "      <td>0.00100</td>\n",
       "      <td>[0.03999999910593033, 0.03999999910593033, 0.0...</td>\n",
       "      <td>[0.0, 0.0, 0.0]</td>\n",
       "      <td>-2.571731</td>\n",
       "      <td>1.022248</td>\n",
       "    </tr>\n",
       "    <tr>\n",
       "      <th>65534</th>\n",
       "      <td>[3.111596015514806e-05, 3.111596015514806e-05,...</td>\n",
       "      <td>[0.0, 0.0, 0.0]</td>\n",
       "      <td>3.141593</td>\n",
       "      <td>1.269876</td>\n",
       "      <td>[0.17810162901878357, 0.4554460942745209, 0.34...</td>\n",
       "      <td>0.61288</td>\n",
       "      <td>[0.0026184511370956898, 0.0026184511370956898,...</td>\n",
       "      <td>[0.0, 0.0, 0.0]</td>\n",
       "      <td>3.074192</td>\n",
       "      <td>0.645962</td>\n",
       "    </tr>\n",
       "    <tr>\n",
       "      <th>65535</th>\n",
       "      <td>[3.111596015514806e-05, 3.111596015514806e-05,...</td>\n",
       "      <td>[0.0, 0.0, 0.0]</td>\n",
       "      <td>3.141593</td>\n",
       "      <td>1.269876</td>\n",
       "      <td>[0.23829913139343262, 0.4177289307117462, 0.54...</td>\n",
       "      <td>0.61288</td>\n",
       "      <td>[0.0026184511370956898, 0.0026184511370956898,...</td>\n",
       "      <td>[0.0, 0.0, 0.0]</td>\n",
       "      <td>2.866677</td>\n",
       "      <td>1.530738</td>\n",
       "    </tr>\n",
       "  </tbody>\n",
       "</table>\n",
       "<p>65536 rows × 10 columns</p>\n",
       "</div>"
      ],
      "text/plain": [
       "                                     diffuse_reflectance           motion  \\\n",
       "0                  [0.48046875, 0.462890625, 0.41796875]  [0.0, 0.0, 0.0]   \n",
       "1                  [0.48046875, 0.462890625, 0.41796875]  [0.0, 0.0, 0.0]   \n",
       "2                  [0.48046875, 0.462890625, 0.41796875]  [0.0, 0.0, 0.0]   \n",
       "3                  [0.48046875, 0.462890625, 0.41796875]  [0.0, 0.0, 0.0]   \n",
       "4                  [0.48046875, 0.462890625, 0.41796875]  [0.0, 0.0, 0.0]   \n",
       "...                                                  ...              ...   \n",
       "65531  [3.111596015514806e-05, 3.111596015514806e-05,...  [0.0, 0.0, 0.0]   \n",
       "65532  [3.111596015514806e-05, 3.111596015514806e-05,...  [0.0, 0.0, 0.0]   \n",
       "65533              [0.48046875, 0.462890625, 0.41796875]  [0.0, 0.0, 0.0]   \n",
       "65534  [3.111596015514806e-05, 3.111596015514806e-05,...  [0.0, 0.0, 0.0]   \n",
       "65535  [3.111596015514806e-05, 3.111596015514806e-05,...  [0.0, 0.0, 0.0]   \n",
       "\n",
       "       normal_phi  normal_theta  \\\n",
       "0       -1.570796      1.570796   \n",
       "1       -1.570796      1.570796   \n",
       "2       -1.570796      1.570796   \n",
       "3       -1.570796      1.570796   \n",
       "4       -1.570796      1.570796   \n",
       "...           ...           ...   \n",
       "65531    3.141593      1.269876   \n",
       "65532    3.141593      1.269876   \n",
       "65533   -1.570796      1.570796   \n",
       "65534    3.141593      1.269876   \n",
       "65535    3.141593      1.269876   \n",
       "\n",
       "                                                position  roughness  \\\n",
       "0      [0.306252658367157, 0.9999497532844543, 0.7173...    0.00100   \n",
       "1      [0.3363826274871826, 0.9999497532844543, 0.709...    0.00100   \n",
       "2      [0.22915375232696533, 0.9999497532844543, 0.61...    0.00100   \n",
       "3      [0.10629868507385254, 0.9999498128890991, 0.68...    0.00100   \n",
       "4      [0.14926153421401978, 0.9999497532844543, 0.79...    0.00100   \n",
       "...                                                  ...        ...   \n",
       "65531  [0.17787300050258636, 0.5011635422706604, 0.34...    0.61288   \n",
       "65532  [0.1701839715242386, 0.5004807114601135, 0.324...    0.61288   \n",
       "65533  [0.7340025305747986, 0.9999846816062927, 0.052...    0.00100   \n",
       "65534  [0.17810162901878357, 0.4554460942745209, 0.34...    0.61288   \n",
       "65535  [0.23829913139343262, 0.4177289307117462, 0.54...    0.61288   \n",
       "\n",
       "                                    specular_reflectance  \\\n",
       "0      [0.03999999910593033, 0.03999999910593033, 0.0...   \n",
       "1      [0.03999999910593033, 0.03999999910593033, 0.0...   \n",
       "2      [0.03999999910593033, 0.03999999910593033, 0.0...   \n",
       "3      [0.03999999910593033, 0.03999999910593033, 0.0...   \n",
       "4      [0.03999999910593033, 0.03999999910593033, 0.0...   \n",
       "...                                                  ...   \n",
       "65531  [0.0026184511370956898, 0.0026184511370956898,...   \n",
       "65532  [0.0026184511370956898, 0.0026184511370956898,...   \n",
       "65533  [0.03999999910593033, 0.03999999910593033, 0.0...   \n",
       "65534  [0.0026184511370956898, 0.0026184511370956898,...   \n",
       "65535  [0.0026184511370956898, 0.0026184511370956898,...   \n",
       "\n",
       "                                                  target  vOut_phi  vOut_theta  \n",
       "0      [0.4390144944190979, 0.29768621921539307, 0.08... -0.714346    0.624703  \n",
       "1      [0.40728095173835754, 0.2761684060096741, 0.08... -0.743398    0.605594  \n",
       "2      [0.0991773009300232, 0.0010692072100937366, 0.... -0.648006    0.614669  \n",
       "3      [0.2314876765012741, 0.002495615743100643, 0.0... -0.561981    0.710877  \n",
       "4      [0.17676062881946564, 0.001835898612625897, 0.... -0.589666    0.745139  \n",
       "...                                                  ...       ...         ...  \n",
       "65531                                    [0.0, 0.0, 0.0]  3.118676    0.644623  \n",
       "65532                                    [0.0, 0.0, 0.0]  3.117833    0.632231  \n",
       "65533                                    [0.0, 0.0, 0.0] -2.571731    1.022248  \n",
       "65534                                    [0.0, 0.0, 0.0]  3.074192    0.645962  \n",
       "65535                                    [0.0, 0.0, 0.0]  2.866677    1.530738  \n",
       "\n",
       "[65536 rows x 10 columns]"
      ]
     },
     "execution_count": 5,
     "metadata": {},
     "output_type": "execute_result"
    }
   ],
   "source": [
    "df = pd.json_normalize(json_dict['train_query'])\n",
    "df"
   ]
  },
  {
   "cell_type": "code",
   "execution_count": 7,
   "metadata": {},
   "outputs": [
    {
     "data": {
      "text/plain": [
       "Index(['diffuse_reflectance', 'motion', 'normal_phi', 'normal_theta',\n",
       "       'position', 'roughness', 'specular_reflectance', 'target', 'vOut_phi',\n",
       "       'vOut_theta'],\n",
       "      dtype='object')"
      ]
     },
     "execution_count": 7,
     "metadata": {},
     "output_type": "execute_result"
    }
   ],
   "source": [
    "df.keys()"
   ]
  },
  {
   "cell_type": "code",
   "execution_count": 8,
   "metadata": {},
   "outputs": [
    {
     "data": {
      "text/plain": [
       "0        0.0\n",
       "1        0.0\n",
       "2        0.0\n",
       "3        0.0\n",
       "4        0.0\n",
       "        ... \n",
       "65531    0.0\n",
       "65532    0.0\n",
       "65533    0.0\n",
       "65534    0.0\n",
       "65535    0.0\n",
       "Name: motion_x, Length: 65536, dtype: float32"
      ]
     },
     "execution_count": 8,
     "metadata": {},
     "output_type": "execute_result"
    }
   ],
   "source": [
    "# df[['diffuse_reflectance_x', 'diffuse_eflectance_y', 'diffuse_reflectance_z']] = df['diffuse_reflectance'].tolist()\n",
    "\n",
    "\n",
    "\n",
    "\n",
    "\n",
    "for col in df.columns:\n",
    "    if isinstance(df[col][0], list):\n",
    "        # print(col)\n",
    "        df[[f'{col}_x', f'{col}_y', f'{col}_z']] = df[col].tolist()\n",
    "        df = df.drop(col,axis=1)\n",
    "\n",
    "for col in df.columns:\n",
    "    df[col] = df[col].astype(np.float32)\n",
    "\n",
    "df['motion_x']"
   ]
  },
  {
   "cell_type": "code",
   "execution_count": 9,
   "metadata": {},
   "outputs": [
    {
     "data": {
      "text/plain": [
       "Index(['normal_phi', 'normal_theta', 'roughness', 'vOut_phi', 'vOut_theta',\n",
       "       'diffuse_reflectance_x', 'diffuse_reflectance_y',\n",
       "       'diffuse_reflectance_z', 'motion_x', 'motion_y', 'motion_z',\n",
       "       'position_x', 'position_y', 'position_z', 'specular_reflectance_x',\n",
       "       'specular_reflectance_y', 'specular_reflectance_z', 'target_x',\n",
       "       'target_y', 'target_z'],\n",
       "      dtype='object')"
      ]
     },
     "execution_count": 9,
     "metadata": {},
     "output_type": "execute_result"
    }
   ],
   "source": [
    "df.keys()"
   ]
  },
  {
   "cell_type": "code",
   "execution_count": 48,
   "metadata": {},
   "outputs": [
    {
     "ename": "AttributeError",
     "evalue": "'DataFrame' object has no attribute 'dtype'",
     "output_type": "error",
     "traceback": [
      "\u001b[1;31m---------------------------------------------------------------------------\u001b[0m",
      "\u001b[1;31mAttributeError\u001b[0m                            Traceback (most recent call last)",
      "\u001b[1;32m~\\AppData\\Local\\Temp\\ipykernel_24532\\1115469300.py\u001b[0m in \u001b[0;36m?\u001b[1;34m()\u001b[0m\n\u001b[1;32m----> 1\u001b[1;33m \u001b[0mdf\u001b[0m\u001b[1;33m.\u001b[0m\u001b[0mdtype\u001b[0m\u001b[1;33m\u001b[0m\u001b[1;33m\u001b[0m\u001b[0m\n\u001b[0m",
      "\u001b[1;32mc:\\Users\\walte\\.conda\\envs\\nrc\\lib\\site-packages\\pandas\\core\\generic.py\u001b[0m in \u001b[0;36m?\u001b[1;34m(self, name)\u001b[0m\n\u001b[0;32m   5898\u001b[0m             \u001b[1;32mand\u001b[0m \u001b[0mname\u001b[0m \u001b[1;32mnot\u001b[0m \u001b[1;32min\u001b[0m \u001b[0mself\u001b[0m\u001b[1;33m.\u001b[0m\u001b[0m_accessors\u001b[0m\u001b[1;33m\u001b[0m\u001b[1;33m\u001b[0m\u001b[0m\n\u001b[0;32m   5899\u001b[0m             \u001b[1;32mand\u001b[0m \u001b[0mself\u001b[0m\u001b[1;33m.\u001b[0m\u001b[0m_info_axis\u001b[0m\u001b[1;33m.\u001b[0m\u001b[0m_can_hold_identifiers_and_holds_name\u001b[0m\u001b[1;33m(\u001b[0m\u001b[0mname\u001b[0m\u001b[1;33m)\u001b[0m\u001b[1;33m\u001b[0m\u001b[1;33m\u001b[0m\u001b[0m\n\u001b[0;32m   5900\u001b[0m         ):\n\u001b[0;32m   5901\u001b[0m             \u001b[1;32mreturn\u001b[0m \u001b[0mself\u001b[0m\u001b[1;33m[\u001b[0m\u001b[0mname\u001b[0m\u001b[1;33m]\u001b[0m\u001b[1;33m\u001b[0m\u001b[1;33m\u001b[0m\u001b[0m\n\u001b[1;32m-> 5902\u001b[1;33m         \u001b[1;32mreturn\u001b[0m \u001b[0mobject\u001b[0m\u001b[1;33m.\u001b[0m\u001b[0m__getattribute__\u001b[0m\u001b[1;33m(\u001b[0m\u001b[0mself\u001b[0m\u001b[1;33m,\u001b[0m \u001b[0mname\u001b[0m\u001b[1;33m)\u001b[0m\u001b[1;33m\u001b[0m\u001b[1;33m\u001b[0m\u001b[0m\n\u001b[0m",
      "\u001b[1;31mAttributeError\u001b[0m: 'DataFrame' object has no attribute 'dtype'"
     ]
    }
   ],
   "source": [
    "df.dtype"
   ]
  },
  {
   "cell_type": "code",
   "execution_count": 27,
   "metadata": {},
   "outputs": [
    {
     "ename": "TypeError",
     "evalue": "Invalid object type at position 0",
     "output_type": "error",
     "traceback": [
      "\u001b[1;31m---------------------------------------------------------------------------\u001b[0m",
      "\u001b[1;31mTypeError\u001b[0m                                 Traceback (most recent call last)",
      "File \u001b[1;32mc:\\Users\\walte\\.conda\\envs\\nrc\\lib\\site-packages\\pandas\\_libs\\lib.pyx:2369\u001b[0m, in \u001b[0;36mpandas._libs.lib.maybe_convert_numeric\u001b[1;34m()\u001b[0m\n",
      "\u001b[1;31mTypeError\u001b[0m: Invalid object type",
      "\nDuring handling of the above exception, another exception occurred:\n",
      "\u001b[1;31mTypeError\u001b[0m                                 Traceback (most recent call last)",
      "\u001b[1;32mc:\\nonsys\\workspace\\GfxExp\\ext\\hash-grid-encoding\\test.ipynb Cell 8\u001b[0m line \u001b[0;36m1\n\u001b[1;32m----> <a href='vscode-notebook-cell:/c%3A/nonsys/workspace/GfxExp/ext/hash-grid-encoding/test.ipynb#X16sZmlsZQ%3D%3D?line=0'>1</a>\u001b[0m pd\u001b[39m.\u001b[39;49mto_numeric(df[\u001b[39m'\u001b[39;49m\u001b[39mdiffuse_reflectance\u001b[39;49m\u001b[39m'\u001b[39;49m])\n",
      "File \u001b[1;32mc:\\Users\\walte\\.conda\\envs\\nrc\\lib\\site-packages\\pandas\\core\\tools\\numeric.py:185\u001b[0m, in \u001b[0;36mto_numeric\u001b[1;34m(arg, errors, downcast)\u001b[0m\n\u001b[0;32m    183\u001b[0m coerce_numeric \u001b[39m=\u001b[39m errors \u001b[39mnot\u001b[39;00m \u001b[39min\u001b[39;00m (\u001b[39m\"\u001b[39m\u001b[39mignore\u001b[39m\u001b[39m\"\u001b[39m, \u001b[39m\"\u001b[39m\u001b[39mraise\u001b[39m\u001b[39m\"\u001b[39m)\n\u001b[0;32m    184\u001b[0m \u001b[39mtry\u001b[39;00m:\n\u001b[1;32m--> 185\u001b[0m     values, _ \u001b[39m=\u001b[39m lib\u001b[39m.\u001b[39;49mmaybe_convert_numeric(\n\u001b[0;32m    186\u001b[0m         values, \u001b[39mset\u001b[39;49m(), coerce_numeric\u001b[39m=\u001b[39;49mcoerce_numeric\n\u001b[0;32m    187\u001b[0m     )\n\u001b[0;32m    188\u001b[0m \u001b[39mexcept\u001b[39;00m (\u001b[39mValueError\u001b[39;00m, \u001b[39mTypeError\u001b[39;00m):\n\u001b[0;32m    189\u001b[0m     \u001b[39mif\u001b[39;00m errors \u001b[39m==\u001b[39m \u001b[39m\"\u001b[39m\u001b[39mraise\u001b[39m\u001b[39m\"\u001b[39m:\n",
      "File \u001b[1;32mc:\\Users\\walte\\.conda\\envs\\nrc\\lib\\site-packages\\pandas\\_libs\\lib.pyx:2411\u001b[0m, in \u001b[0;36mpandas._libs.lib.maybe_convert_numeric\u001b[1;34m()\u001b[0m\n",
      "\u001b[1;31mTypeError\u001b[0m: Invalid object type at position 0"
     ]
    }
   ],
   "source": [
    "pd.to_numeric(df['diffuse_reflectance'])"
   ]
  },
  {
   "cell_type": "code",
   "execution_count": 15,
   "metadata": {},
   "outputs": [],
   "source": [
    "df_pre_train_infer = pd.json_normalize(json_dict['pre_train_infer'])\n",
    "df_train_query = pd.json_normalize(json_dict['train_query'])\n",
    "df_train_vertex = pd.json_normalize(json_dict['train_vertex'])\n",
    "df_rendering_infer = pd.json_normalize(json_dict['rendering_infer'])"
   ]
  },
  {
   "cell_type": "code",
   "execution_count": 16,
   "metadata": {},
   "outputs": [
    {
     "ename": "KeyError",
     "evalue": "1",
     "output_type": "error",
     "traceback": [
      "\u001b[1;31m---------------------------------------------------------------------------\u001b[0m",
      "\u001b[1;31mKeyError\u001b[0m                                  Traceback (most recent call last)",
      "File \u001b[1;32mc:\\Users\\walte\\.conda\\envs\\nrc\\lib\\site-packages\\pandas\\core\\indexes\\base.py:3802\u001b[0m, in \u001b[0;36mIndex.get_loc\u001b[1;34m(self, key, method, tolerance)\u001b[0m\n\u001b[0;32m   3801\u001b[0m \u001b[39mtry\u001b[39;00m:\n\u001b[1;32m-> 3802\u001b[0m     \u001b[39mreturn\u001b[39;00m \u001b[39mself\u001b[39;49m\u001b[39m.\u001b[39;49m_engine\u001b[39m.\u001b[39;49mget_loc(casted_key)\n\u001b[0;32m   3803\u001b[0m \u001b[39mexcept\u001b[39;00m \u001b[39mKeyError\u001b[39;00m \u001b[39mas\u001b[39;00m err:\n",
      "File \u001b[1;32mc:\\Users\\walte\\.conda\\envs\\nrc\\lib\\site-packages\\pandas\\_libs\\index.pyx:138\u001b[0m, in \u001b[0;36mpandas._libs.index.IndexEngine.get_loc\u001b[1;34m()\u001b[0m\n",
      "File \u001b[1;32mc:\\Users\\walte\\.conda\\envs\\nrc\\lib\\site-packages\\pandas\\_libs\\index.pyx:165\u001b[0m, in \u001b[0;36mpandas._libs.index.IndexEngine.get_loc\u001b[1;34m()\u001b[0m\n",
      "File \u001b[1;32mpandas\\_libs\\hashtable_class_helper.pxi:5745\u001b[0m, in \u001b[0;36mpandas._libs.hashtable.PyObjectHashTable.get_item\u001b[1;34m()\u001b[0m\n",
      "File \u001b[1;32mpandas\\_libs\\hashtable_class_helper.pxi:5753\u001b[0m, in \u001b[0;36mpandas._libs.hashtable.PyObjectHashTable.get_item\u001b[1;34m()\u001b[0m\n",
      "\u001b[1;31mKeyError\u001b[0m: 1",
      "\nThe above exception was the direct cause of the following exception:\n",
      "\u001b[1;31mKeyError\u001b[0m                                  Traceback (most recent call last)",
      "\u001b[1;32mc:\\nonsys\\workspace\\GfxExp\\ext\\hash-grid-encoding\\test.ipynb Cell 8\u001b[0m line \u001b[0;36m1\n\u001b[1;32m----> <a href='vscode-notebook-cell:/c%3A/nonsys/workspace/GfxExp/ext/hash-grid-encoding/test.ipynb#W5sZmlsZQ%3D%3D?line=0'>1</a>\u001b[0m pd\u001b[39m.\u001b[39misna(df_pre_train_infer[\u001b[39m1\u001b[39;49m][\u001b[39m'\u001b[39m\u001b[39mprev_vertex_data_index\u001b[39m\u001b[39m'\u001b[39m])\n",
      "File \u001b[1;32mc:\\Users\\walte\\.conda\\envs\\nrc\\lib\\site-packages\\pandas\\core\\frame.py:3807\u001b[0m, in \u001b[0;36mDataFrame.__getitem__\u001b[1;34m(self, key)\u001b[0m\n\u001b[0;32m   3805\u001b[0m \u001b[39mif\u001b[39;00m \u001b[39mself\u001b[39m\u001b[39m.\u001b[39mcolumns\u001b[39m.\u001b[39mnlevels \u001b[39m>\u001b[39m \u001b[39m1\u001b[39m:\n\u001b[0;32m   3806\u001b[0m     \u001b[39mreturn\u001b[39;00m \u001b[39mself\u001b[39m\u001b[39m.\u001b[39m_getitem_multilevel(key)\n\u001b[1;32m-> 3807\u001b[0m indexer \u001b[39m=\u001b[39m \u001b[39mself\u001b[39;49m\u001b[39m.\u001b[39;49mcolumns\u001b[39m.\u001b[39;49mget_loc(key)\n\u001b[0;32m   3808\u001b[0m \u001b[39mif\u001b[39;00m is_integer(indexer):\n\u001b[0;32m   3809\u001b[0m     indexer \u001b[39m=\u001b[39m [indexer]\n",
      "File \u001b[1;32mc:\\Users\\walte\\.conda\\envs\\nrc\\lib\\site-packages\\pandas\\core\\indexes\\base.py:3804\u001b[0m, in \u001b[0;36mIndex.get_loc\u001b[1;34m(self, key, method, tolerance)\u001b[0m\n\u001b[0;32m   3802\u001b[0m     \u001b[39mreturn\u001b[39;00m \u001b[39mself\u001b[39m\u001b[39m.\u001b[39m_engine\u001b[39m.\u001b[39mget_loc(casted_key)\n\u001b[0;32m   3803\u001b[0m \u001b[39mexcept\u001b[39;00m \u001b[39mKeyError\u001b[39;00m \u001b[39mas\u001b[39;00m err:\n\u001b[1;32m-> 3804\u001b[0m     \u001b[39mraise\u001b[39;00m \u001b[39mKeyError\u001b[39;00m(key) \u001b[39mfrom\u001b[39;00m \u001b[39merr\u001b[39;00m\n\u001b[0;32m   3805\u001b[0m \u001b[39mexcept\u001b[39;00m \u001b[39mTypeError\u001b[39;00m:\n\u001b[0;32m   3806\u001b[0m     \u001b[39m# If we have a listlike key, _check_indexing_error will raise\u001b[39;00m\n\u001b[0;32m   3807\u001b[0m     \u001b[39m#  InvalidIndexError. Otherwise we fall through and re-raise\u001b[39;00m\n\u001b[0;32m   3808\u001b[0m     \u001b[39m#  the TypeError.\u001b[39;00m\n\u001b[0;32m   3809\u001b[0m     \u001b[39mself\u001b[39m\u001b[39m.\u001b[39m_check_indexing_error(key)\n",
      "\u001b[1;31mKeyError\u001b[0m: 1"
     ]
    }
   ],
   "source": [
    "pd.isna(df_pre_train_infer[1]['prev_vertex_data_index'])"
   ]
  },
  {
   "cell_type": "code",
   "execution_count": 23,
   "metadata": {},
   "outputs": [
    {
     "data": {
      "text/plain": [
       "[0.3515625, 0.00518798828125, 0.003662109375]"
      ]
     },
     "execution_count": 23,
     "metadata": {},
     "output_type": "execute_result"
    }
   ],
   "source": [
    "df_pre_train_infer.iloc[100]['diffuse_reflectance']"
   ]
  },
  {
   "cell_type": "code",
   "execution_count": 24,
   "metadata": {},
   "outputs": [
    {
     "data": {
      "text/plain": [
       "[WindowsPath('C:/nonsys/workspace/GfxExp/exp/cornell_box_dy/save_query/query_frame_000_spp_000.json'),\n",
       " WindowsPath('C:/nonsys/workspace/GfxExp/exp/cornell_box_dy/save_query/query_frame_001_spp_000.json'),\n",
       " WindowsPath('C:/nonsys/workspace/GfxExp/exp/cornell_box_dy/save_query/query_frame_002_spp_000.json'),\n",
       " WindowsPath('C:/nonsys/workspace/GfxExp/exp/cornell_box_dy/save_query/query_frame_003_spp_000.json'),\n",
       " WindowsPath('C:/nonsys/workspace/GfxExp/exp/cornell_box_dy/save_query/query_frame_004_spp_000.json'),\n",
       " WindowsPath('C:/nonsys/workspace/GfxExp/exp/cornell_box_dy/save_query/query_frame_005_spp_000.json'),\n",
       " WindowsPath('C:/nonsys/workspace/GfxExp/exp/cornell_box_dy/save_query/query_frame_006_spp_000.json'),\n",
       " WindowsPath('C:/nonsys/workspace/GfxExp/exp/cornell_box_dy/save_query/query_frame_007_spp_000.json'),\n",
       " WindowsPath('C:/nonsys/workspace/GfxExp/exp/cornell_box_dy/save_query/query_frame_008_spp_000.json'),\n",
       " WindowsPath('C:/nonsys/workspace/GfxExp/exp/cornell_box_dy/save_query/query_frame_009_spp_000.json'),\n",
       " WindowsPath('C:/nonsys/workspace/GfxExp/exp/cornell_box_dy/save_query/query_frame_010_spp_000.json')]"
      ]
     },
     "execution_count": 24,
     "metadata": {},
     "output_type": "execute_result"
    }
   ],
   "source": [
    "sorted(list(exp_path.glob('*.json')))"
   ]
  },
  {
   "cell_type": "code",
   "execution_count": null,
   "metadata": {},
   "outputs": [],
   "source": []
  },
  {
   "cell_type": "code",
   "execution_count": null,
   "metadata": {},
   "outputs": [],
   "source": []
  }
 ],
 "metadata": {
  "kernelspec": {
   "display_name": "nrc",
   "language": "python",
   "name": "python3"
  },
  "language_info": {
   "codemirror_mode": {
    "name": "ipython",
    "version": 3
   },
   "file_extension": ".py",
   "mimetype": "text/x-python",
   "name": "python",
   "nbconvert_exporter": "python",
   "pygments_lexer": "ipython3",
   "version": "3.9.16"
  },
  "orig_nbformat": 4
 },
 "nbformat": 4,
 "nbformat_minor": 2
}
